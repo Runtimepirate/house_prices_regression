{
  "cells": [
    {
      "cell_type": "markdown",
      "metadata": {
        "id": "g9YmiXmaGHOn"
      },
      "source": [
        "# House Prices - Advanced Regression Techniques\n",
        "Predict sales prices and practice feature engineering, Random Forests, and Gradient Boosting"
      ]
    },
    {
      "cell_type": "code",
      "execution_count": 1,
      "metadata": {
        "id": "-zhC34LxGHOp"
      },
      "outputs": [],
      "source": [
        "# Imports\n",
        "import numpy as np\n",
        "import pandas as pd\n",
        "import matplotlib.pyplot as plt\n",
        "import seaborn as sns\n",
        "from sklearn.model_selection import cross_val_score\n",
        "from sklearn.preprocessing import LabelEncoder, StandardScaler\n",
        "from sklearn.impute import SimpleImputer\n",
        "from sklearn.ensemble import RandomForestRegressor\n",
        "from sklearn.metrics import mean_squared_error\n",
        "import xgboost as xgb\n",
        "import warnings\n",
        "warnings.filterwarnings('ignore')"
      ]
    },
    {
      "cell_type": "code",
      "execution_count": 2,
      "metadata": {
        "colab": {
          "base_uri": "https://localhost:8080/"
        },
        "id": "-sgdDyYuGHOq",
        "outputId": "5e3c41d1-5789-4f67-d52c-af5aecf3de73"
      },
      "outputs": [
        {
          "output_type": "stream",
          "name": "stdout",
          "text": [
            "Train shape: (1460, 81)\n",
            "Test shape: (1459, 80)\n"
          ]
        }
      ],
      "source": [
        "# Load data\n",
        "train = pd.read_csv('train.csv')\n",
        "test = pd.read_csv('test.csv')\n",
        "print(f\"Train shape: {train.shape}\")\n",
        "print(f\"Test shape: {test.shape}\")"
      ]
    },
    {
      "cell_type": "code",
      "execution_count": 3,
      "metadata": {
        "colab": {
          "base_uri": "https://localhost:8080/"
        },
        "id": "KUJ2uHSNGHOr",
        "outputId": "548e902f-1e04-4b8f-ebb5-6ef81ba77bdb"
      },
      "outputs": [
        {
          "output_type": "stream",
          "name": "stdout",
          "text": [
            "Combined data shape: (2919, 79)\n"
          ]
        }
      ],
      "source": [
        "# Target variable\n",
        "y = train['SalePrice']\n",
        "train_ID = train['Id']\n",
        "test_ID = test['Id']\n",
        "train.drop(['Id', 'SalePrice'], axis=1, inplace=True)\n",
        "test.drop(['Id'], axis=1, inplace=True)\n",
        "all_data = pd.concat([train, test], axis=0, sort=False).reset_index(drop=True)\n",
        "print(f\"Combined data shape: {all_data.shape}\")"
      ]
    },
    {
      "cell_type": "code",
      "execution_count": 4,
      "metadata": {
        "colab": {
          "base_uri": "https://localhost:8080/"
        },
        "id": "n3a8kM6GGHOr",
        "outputId": "666fef7d-4a8b-45c1-d2ce-509d336d69e3"
      },
      "outputs": [
        {
          "output_type": "stream",
          "name": "stdout",
          "text": [
            "PoolQC          2909\n",
            "MiscFeature     2814\n",
            "Alley           2721\n",
            "Fence           2348\n",
            "MasVnrType      1766\n",
            "FireplaceQu     1420\n",
            "LotFrontage      486\n",
            "GarageCond       159\n",
            "GarageFinish     159\n",
            "GarageYrBlt      159\n",
            "GarageQual       159\n",
            "GarageType       157\n",
            "BsmtExposure      82\n",
            "BsmtCond          82\n",
            "BsmtQual          81\n",
            "BsmtFinType2      80\n",
            "BsmtFinType1      79\n",
            "MasVnrArea        23\n",
            "MSZoning           4\n",
            "BsmtHalfBath       2\n",
            "dtype: int64\n"
          ]
        }
      ],
      "source": [
        "# Missing values\n",
        "missing = all_data.isnull().sum().sort_values(ascending=False)\n",
        "print(missing[missing > 0].head(20))"
      ]
    },
    {
      "cell_type": "code",
      "execution_count": 5,
      "metadata": {
        "id": "2MtbRe4XGHOr"
      },
      "outputs": [],
      "source": [
        "# Fill missing values\n",
        "for col in all_data.columns:\n",
        "    if all_data[col].dtype == 'object':\n",
        "        all_data[col] = all_data[col].fillna(all_data[col].mode()[0])\n",
        "    else:\n",
        "        all_data[col] = all_data[col].fillna(all_data[col].median())"
      ]
    },
    {
      "cell_type": "code",
      "execution_count": 6,
      "metadata": {
        "id": "M5LuPrOuGHOs"
      },
      "outputs": [],
      "source": [
        "# Encode categorical features\n",
        "for col in all_data.select_dtypes(include='object').columns:\n",
        "    lbl = LabelEncoder()\n",
        "    all_data[col] = lbl.fit_transform(all_data[col].astype(str))"
      ]
    },
    {
      "cell_type": "code",
      "execution_count": 7,
      "metadata": {
        "id": "WsrGDPLvGHOs"
      },
      "outputs": [],
      "source": [
        "# Feature engineering\n",
        "all_data['TotalSF'] = all_data['TotalBsmtSF'] + all_data['1stFlrSF'] + all_data['2ndFlrSF']"
      ]
    },
    {
      "cell_type": "code",
      "execution_count": 8,
      "metadata": {
        "id": "9UUiueXBGHOs"
      },
      "outputs": [],
      "source": [
        "# Standardize numeric features\n",
        "numeric_feats = all_data.dtypes[all_data.dtypes != \"object\"].index\n",
        "scaler = StandardScaler()\n",
        "all_data[numeric_feats] = scaler.fit_transform(all_data[numeric_feats])"
      ]
    },
    {
      "cell_type": "code",
      "execution_count": 9,
      "metadata": {
        "id": "iFflve7YGHOt"
      },
      "outputs": [],
      "source": [
        "# Split back\n",
        "n_train = train.shape[0]\n",
        "X_train = all_data[:n_train]\n",
        "X_test = all_data[n_train:]"
      ]
    },
    {
      "cell_type": "code",
      "execution_count": 10,
      "metadata": {
        "colab": {
          "base_uri": "https://localhost:8080/"
        },
        "id": "u8P0T2UoGHOt",
        "outputId": "10629c64-3e67-41ea-9eb6-2d28677c3271"
      },
      "outputs": [
        {
          "output_type": "stream",
          "name": "stdout",
          "text": [
            "Random Forest CV RMSE: 29117.9279\n"
          ]
        }
      ],
      "source": [
        "# Random Forest\n",
        "rf = RandomForestRegressor(n_estimators=100, random_state=42)\n",
        "rf.fit(X_train, y)\n",
        "rf_pred = rf.predict(X_test)\n",
        "cv_scores = cross_val_score(rf, X_train, y, scoring='neg_root_mean_squared_error', cv=5)\n",
        "print(f\"Random Forest CV RMSE: {-cv_scores.mean():.4f}\")"
      ]
    },
    {
      "cell_type": "code",
      "execution_count": 11,
      "metadata": {
        "colab": {
          "base_uri": "https://localhost:8080/"
        },
        "id": "n4NKkBL-GHOt",
        "outputId": "ed0bf3cc-49f1-45a0-ca4b-8aea208513c0"
      },
      "outputs": [
        {
          "output_type": "stream",
          "name": "stdout",
          "text": [
            "XGBoost CV RMSE: 24767.7570\n"
          ]
        }
      ],
      "source": [
        "# XGBoost\n",
        "xgbr = xgb.XGBRegressor(n_estimators=1000, learning_rate=0.05, max_depth=3, subsample=0.8, colsample_bytree=0.8, random_state=42)\n",
        "xgbr.fit(X_train, y)\n",
        "xgb_pred = xgbr.predict(X_test)\n",
        "cv_scores = cross_val_score(xgbr, X_train, y, scoring='neg_root_mean_squared_error', cv=5)\n",
        "print(f\"XGBoost CV RMSE: {-cv_scores.mean():.4f}\")"
      ]
    },
    {
      "cell_type": "code",
      "execution_count": 12,
      "metadata": {
        "id": "X5AsxeMRGHOt"
      },
      "outputs": [],
      "source": [
        "# Ensemble\n",
        "ensemble_pred = (rf_pred + xgb_pred) / 2"
      ]
    },
    {
      "cell_type": "code",
      "execution_count": 13,
      "metadata": {
        "colab": {
          "base_uri": "https://localhost:8080/"
        },
        "id": "nxD4HFrCGHOt",
        "outputId": "043b456d-9c8a-4b59-9ada-c8399ac53064"
      },
      "outputs": [
        {
          "output_type": "stream",
          "name": "stdout",
          "text": [
            "Submission file created!\n"
          ]
        }
      ],
      "source": [
        "# Submission\n",
        "submission = pd.DataFrame({\n",
        "    \"Id\": test_ID,\n",
        "    \"SalePrice\": ensemble_pred\n",
        "})\n",
        "submission.to_csv(\"submission.csv\", index=False)\n",
        "print(\"Submission file created!\")"
      ]
    }
  ],
  "metadata": {
    "kernelspec": {
      "display_name": "Python 3",
      "language": "python",
      "name": "python3"
    },
    "language_info": {
      "name": "python",
      "version": "3.8"
    },
    "colab": {
      "provenance": []
    }
  },
  "nbformat": 4,
  "nbformat_minor": 0
}